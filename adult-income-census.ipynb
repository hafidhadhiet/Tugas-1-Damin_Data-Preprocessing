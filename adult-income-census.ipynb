{
 "cells": [
  {
   "cell_type": "code",
   "execution_count": 33,
   "metadata": {
    "execution": {
     "iopub.execute_input": "2021-09-30T03:19:20.268307Z",
     "iopub.status.busy": "2021-09-30T03:19:20.267813Z",
     "iopub.status.idle": "2021-09-30T03:19:20.273175Z",
     "shell.execute_reply": "2021-09-30T03:19:20.272323Z",
     "shell.execute_reply.started": "2021-09-30T03:19:20.268272Z"
    }
   },
   "outputs": [],
   "source": [
    "#import required libraries\n",
    "import pandas as pd\n",
    "import numpy as np\n",
    "import matplotlib.pyplot as plt\n",
    "import seaborn as sns"
   ]
  },
  {
   "cell_type": "code",
   "execution_count": 34,
   "metadata": {
    "execution": {
     "iopub.execute_input": "2021-09-30T03:19:20.276320Z",
     "iopub.status.busy": "2021-09-30T03:19:20.276029Z",
     "iopub.status.idle": "2021-09-30T03:19:20.380702Z",
     "shell.execute_reply": "2021-09-30T03:19:20.379780Z",
     "shell.execute_reply.started": "2021-09-30T03:19:20.276293Z"
    }
   },
   "outputs": [
    {
     "name": "stdout",
     "output_type": "stream",
     "text": [
      "   age workclass  fnlwgt     education  education.num marital.status  \\\n",
      "0   90         ?   77053       HS-grad              9        Widowed   \n",
      "1   82   Private  132870       HS-grad              9        Widowed   \n",
      "2   66         ?  186061  Some-college             10        Widowed   \n",
      "3   54   Private  140359       7th-8th              4       Divorced   \n",
      "4   41   Private  264663  Some-college             10      Separated   \n",
      "\n",
      "          occupation   relationship   race     sex  capital.gain  \\\n",
      "0                  ?  Not-in-family  White  Female             0   \n",
      "1    Exec-managerial  Not-in-family  White  Female             0   \n",
      "2                  ?      Unmarried  Black  Female             0   \n",
      "3  Machine-op-inspct      Unmarried  White  Female             0   \n",
      "4     Prof-specialty      Own-child  White  Female             0   \n",
      "\n",
      "   capital.loss  hours.per.week native.country income  \n",
      "0          4356              40  United-States  <=50K  \n",
      "1          4356              18  United-States  <=50K  \n",
      "2          4356              40  United-States  <=50K  \n",
      "3          3900              40  United-States  <=50K  \n",
      "4          3900              40  United-States  <=50K  \n"
     ]
    }
   ],
   "source": [
    "#get the data\n",
    "df_raw = pd.read_csv(\"/kaggle/input/adult-census-income/adult.csv\")\n",
    "\n",
    "print(df_raw.head(5))"
   ]
  },
  {
   "cell_type": "code",
   "execution_count": 35,
   "metadata": {
    "execution": {
     "iopub.execute_input": "2021-09-30T03:19:20.383064Z",
     "iopub.status.busy": "2021-09-30T03:19:20.382570Z",
     "iopub.status.idle": "2021-09-30T03:19:20.430545Z",
     "shell.execute_reply": "2021-09-30T03:19:20.429057Z",
     "shell.execute_reply.started": "2021-09-30T03:19:20.383023Z"
    }
   },
   "outputs": [
    {
     "data": {
      "text/plain": [
       "age               0\n",
       "workclass         0\n",
       "fnlwgt            0\n",
       "education         0\n",
       "education.num     0\n",
       "marital.status    0\n",
       "occupation        0\n",
       "relationship      0\n",
       "race              0\n",
       "sex               0\n",
       "capital.gain      0\n",
       "capital.loss      0\n",
       "hours.per.week    0\n",
       "native.country    0\n",
       "income            0\n",
       "dtype: int64"
      ]
     },
     "execution_count": 35,
     "metadata": {},
     "output_type": "execute_result"
    }
   ],
   "source": [
    "#look for null values in dataframe\n",
    "df_raw.isnull().sum()"
   ]
  },
  {
   "cell_type": "code",
   "execution_count": 36,
   "metadata": {
    "execution": {
     "iopub.execute_input": "2021-09-30T03:19:20.432151Z",
     "iopub.status.busy": "2021-09-30T03:19:20.431917Z",
     "iopub.status.idle": "2021-09-30T03:19:20.439235Z",
     "shell.execute_reply": "2021-09-30T03:19:20.438652Z",
     "shell.execute_reply.started": "2021-09-30T03:19:20.432126Z"
    }
   },
   "outputs": [],
   "source": [
    "#convert categorical variable into numerical\n",
    "#df_raw['salary']=df_raw['salary'].map({' <=50K':0, ' >50K':1})"
   ]
  },
  {
   "cell_type": "code",
   "execution_count": 37,
   "metadata": {
    "execution": {
     "iopub.execute_input": "2021-09-30T03:19:20.441518Z",
     "iopub.status.busy": "2021-09-30T03:19:20.441026Z",
     "iopub.status.idle": "2021-09-30T03:19:20.460226Z",
     "shell.execute_reply": "2021-09-30T03:19:20.459407Z",
     "shell.execute_reply.started": "2021-09-30T03:19:20.441465Z"
    }
   },
   "outputs": [
    {
     "data": {
      "text/plain": [
       "age                int64\n",
       "workclass         object\n",
       "fnlwgt             int64\n",
       "education         object\n",
       "education.num      int64\n",
       "marital.status    object\n",
       "occupation        object\n",
       "relationship      object\n",
       "race              object\n",
       "sex               object\n",
       "capital.gain       int64\n",
       "capital.loss       int64\n",
       "hours.per.week     int64\n",
       "native.country    object\n",
       "income            object\n",
       "dtype: object"
      ]
     },
     "execution_count": 37,
     "metadata": {},
     "output_type": "execute_result"
    }
   ],
   "source": [
    "df_raw.dtypes"
   ]
  },
  {
   "cell_type": "code",
   "execution_count": 38,
   "metadata": {
    "execution": {
     "iopub.execute_input": "2021-09-30T03:19:20.462388Z",
     "iopub.status.busy": "2021-09-30T03:19:20.461858Z",
     "iopub.status.idle": "2021-09-30T03:19:20.482419Z",
     "shell.execute_reply": "2021-09-30T03:19:20.480993Z",
     "shell.execute_reply.started": "2021-09-30T03:19:20.462349Z"
    }
   },
   "outputs": [
    {
     "data": {
      "text/plain": [
       "array(['United-States', '?', 'Mexico', 'Greece', 'Vietnam', 'China',\n",
       "       'Taiwan', 'India', 'Philippines', 'Trinadad&Tobago', 'Canada',\n",
       "       'South', 'Holand-Netherlands', 'Puerto-Rico', 'Poland', 'Iran',\n",
       "       'England', 'Germany', 'Italy', 'Japan', 'Hong', 'Honduras', 'Cuba',\n",
       "       'Ireland', 'Cambodia', 'Peru', 'Nicaragua', 'Dominican-Republic',\n",
       "       'Haiti', 'El-Salvador', 'Hungary', 'Columbia', 'Guatemala',\n",
       "       'Jamaica', 'Ecuador', 'France', 'Yugoslavia', 'Scotland',\n",
       "       'Portugal', 'Laos', 'Thailand', 'Outlying-US(Guam-USVI-etc)'],\n",
       "      dtype=object)"
      ]
     },
     "execution_count": 38,
     "metadata": {},
     "output_type": "execute_result"
    }
   ],
   "source": [
    "df_raw['native.country'].unique()"
   ]
  },
  {
   "cell_type": "code",
   "execution_count": 39,
   "metadata": {
    "execution": {
     "iopub.execute_input": "2021-09-30T03:19:20.484667Z",
     "iopub.status.busy": "2021-09-30T03:19:20.484309Z",
     "iopub.status.idle": "2021-09-30T03:19:20.503052Z",
     "shell.execute_reply": "2021-09-30T03:19:20.501795Z",
     "shell.execute_reply.started": "2021-09-30T03:19:20.484627Z"
    }
   },
   "outputs": [
    {
     "data": {
      "text/plain": [
       "array(['<=50K', '>50K'], dtype=object)"
      ]
     },
     "execution_count": 39,
     "metadata": {},
     "output_type": "execute_result"
    }
   ],
   "source": [
    "df = df_raw.drop(['education'], axis=1)\n",
    "df.income.unique()"
   ]
  },
  {
   "cell_type": "code",
   "execution_count": 40,
   "metadata": {
    "execution": {
     "iopub.execute_input": "2021-09-30T03:19:20.505399Z",
     "iopub.status.busy": "2021-09-30T03:19:20.505095Z",
     "iopub.status.idle": "2021-09-30T03:19:20.515263Z",
     "shell.execute_reply": "2021-09-30T03:19:20.513909Z",
     "shell.execute_reply.started": "2021-09-30T03:19:20.505364Z"
    }
   },
   "outputs": [],
   "source": [
    "#dividing data into independent and dependent variables\n",
    "X = df.iloc[:,:-1]\n",
    "y = df.iloc[:,-1]"
   ]
  },
  {
   "cell_type": "code",
   "execution_count": 41,
   "metadata": {
    "execution": {
     "iopub.execute_input": "2021-09-30T03:19:20.517373Z",
     "iopub.status.busy": "2021-09-30T03:19:20.516882Z",
     "iopub.status.idle": "2021-09-30T03:19:20.529072Z",
     "shell.execute_reply": "2021-09-30T03:19:20.528158Z",
     "shell.execute_reply.started": "2021-09-30T03:19:20.517328Z"
    }
   },
   "outputs": [],
   "source": [
    "#rename columns for convinience\n",
    "X.columns = ['age', 'workclass', 'fnlwgt', 'education_num', 'marital_status', 'occupation',\n",
    "       'relationship', 'race', 'sex', 'capital_gain', 'capital_loss',\n",
    "       'hours_per_week', 'country']"
   ]
  },
  {
   "cell_type": "code",
   "execution_count": 42,
   "metadata": {
    "execution": {
     "iopub.execute_input": "2021-09-30T03:19:20.531074Z",
     "iopub.status.busy": "2021-09-30T03:19:20.530561Z",
     "iopub.status.idle": "2021-09-30T03:19:20.550441Z",
     "shell.execute_reply": "2021-09-30T03:19:20.549226Z",
     "shell.execute_reply.started": "2021-09-30T03:19:20.531036Z"
    }
   },
   "outputs": [
    {
     "data": {
      "text/plain": [
       "['age',\n",
       " 'fnlwgt',\n",
       " 'education_num',\n",
       " 'capital_gain',\n",
       " 'capital_loss',\n",
       " 'hours_per_week']"
      ]
     },
     "execution_count": 42,
     "metadata": {},
     "output_type": "execute_result"
    }
   ],
   "source": [
    "#extract categorical and numerical columns\n",
    "categorical_feature = [feature for feature in X.columns if X[feature].dtypes == 'O']\n",
    "numerical_feature = [feature for feature in X.columns if X[feature].dtypes != 'O']\n",
    "\n",
    "numerical_feature"
   ]
  },
  {
   "cell_type": "code",
   "execution_count": 43,
   "metadata": {
    "execution": {
     "iopub.execute_input": "2021-09-30T03:19:20.554926Z",
     "iopub.status.busy": "2021-09-30T03:19:20.554027Z",
     "iopub.status.idle": "2021-09-30T03:19:20.697591Z",
     "shell.execute_reply": "2021-09-30T03:19:20.696685Z",
     "shell.execute_reply.started": "2021-09-30T03:19:20.554880Z"
    }
   },
   "outputs": [
    {
     "data": {
      "text/plain": [
       "array(['United-States', '?', 'Mexico', 'Greece', 'Vietnam', 'China',\n",
       "       'Taiwan', 'India', 'Philippines', 'Trinadad&Tobago', 'Canada',\n",
       "       'South', 'Holand-Netherlands', 'Puerto-Rico', 'Poland', 'Iran',\n",
       "       'England', 'Germany', 'Italy', 'Japan', 'Hong', 'Honduras', 'Cuba',\n",
       "       'Ireland', 'Cambodia', 'Peru', 'Nicaragua', 'Dominican-Republic',\n",
       "       'Haiti', 'El-Salvador', 'Hungary', 'Columbia', 'Guatemala',\n",
       "       'Jamaica', 'Ecuador', 'France', 'Yugoslavia', 'Scotland',\n",
       "       'Portugal', 'Laos', 'Thailand', 'Outlying-US(Guam-USVI-etc)'],\n",
       "      dtype=object)"
      ]
     },
     "execution_count": 43,
     "metadata": {},
     "output_type": "execute_result"
    }
   ],
   "source": [
    "#trim whitespaces from this df\n",
    "X[categorical_feature] = X[categorical_feature].apply(lambda x: x.str.strip())\n",
    "X.country.unique()"
   ]
  },
  {
   "cell_type": "code",
   "execution_count": 44,
   "metadata": {
    "execution": {
     "iopub.execute_input": "2021-09-30T03:19:20.699700Z",
     "iopub.status.busy": "2021-09-30T03:19:20.698979Z",
     "iopub.status.idle": "2021-09-30T03:19:20.788822Z",
     "shell.execute_reply": "2021-09-30T03:19:20.787706Z",
     "shell.execute_reply.started": "2021-09-30T03:19:20.699652Z"
    }
   },
   "outputs": [
    {
     "data": {
      "text/plain": [
       "age                  0\n",
       "workclass         1836\n",
       "fnlwgt               0\n",
       "education_num        0\n",
       "marital_status       0\n",
       "occupation        1843\n",
       "relationship         0\n",
       "race                 0\n",
       "sex                  0\n",
       "capital_gain         0\n",
       "capital_loss         0\n",
       "hours_per_week       0\n",
       "country            583\n",
       "dtype: int64"
      ]
     },
     "execution_count": 44,
     "metadata": {},
     "output_type": "execute_result"
    }
   ],
   "source": [
    "#replace '?' with None values to find out null values\n",
    "X = X.replace({'?': None})\n",
    "X.isnull().sum()"
   ]
  },
  {
   "cell_type": "code",
   "execution_count": 45,
   "metadata": {
    "execution": {
     "iopub.execute_input": "2021-09-30T03:19:20.791527Z",
     "iopub.status.busy": "2021-09-30T03:19:20.790968Z",
     "iopub.status.idle": "2021-09-30T03:19:20.898994Z",
     "shell.execute_reply": "2021-09-30T03:19:20.898128Z",
     "shell.execute_reply.started": "2021-09-30T03:19:20.791454Z"
    }
   },
   "outputs": [
    {
     "data": {
      "text/plain": [
       "age               0\n",
       "workclass         0\n",
       "fnlwgt            0\n",
       "education_num     0\n",
       "marital_status    0\n",
       "occupation        0\n",
       "relationship      0\n",
       "race              0\n",
       "sex               0\n",
       "capital_gain      0\n",
       "capital_loss      0\n",
       "hours_per_week    0\n",
       "country           0\n",
       "dtype: int64"
      ]
     },
     "execution_count": 45,
     "metadata": {},
     "output_type": "execute_result"
    }
   ],
   "source": [
    "#fill null values with median\n",
    "X.fillna(X.mode().iloc[0], inplace=True)\n",
    "X.isnull().sum()"
   ]
  },
  {
   "cell_type": "code",
   "execution_count": 46,
   "metadata": {
    "execution": {
     "iopub.execute_input": "2021-09-30T03:19:20.901260Z",
     "iopub.status.busy": "2021-09-30T03:19:20.900413Z",
     "iopub.status.idle": "2021-09-30T03:19:20.913468Z",
     "shell.execute_reply": "2021-09-30T03:19:20.912325Z",
     "shell.execute_reply.started": "2021-09-30T03:19:20.901211Z"
    }
   },
   "outputs": [
    {
     "data": {
      "text/plain": [
       "array(['United-States', 'Mexico', 'Greece', 'Vietnam', 'China', 'Taiwan',\n",
       "       'India', 'Philippines', 'Trinadad&Tobago', 'Canada', 'South',\n",
       "       'Holand-Netherlands', 'Puerto-Rico', 'Poland', 'Iran', 'England',\n",
       "       'Germany', 'Italy', 'Japan', 'Hong', 'Honduras', 'Cuba', 'Ireland',\n",
       "       'Cambodia', 'Peru', 'Nicaragua', 'Dominican-Republic', 'Haiti',\n",
       "       'El-Salvador', 'Hungary', 'Columbia', 'Guatemala', 'Jamaica',\n",
       "       'Ecuador', 'France', 'Yugoslavia', 'Scotland', 'Portugal', 'Laos',\n",
       "       'Thailand', 'Outlying-US(Guam-USVI-etc)'], dtype=object)"
      ]
     },
     "execution_count": 46,
     "metadata": {},
     "output_type": "execute_result"
    }
   ],
   "source": [
    "X.country.unique()"
   ]
  },
  {
   "cell_type": "code",
   "execution_count": 47,
   "metadata": {
    "execution": {
     "iopub.execute_input": "2021-09-30T03:19:20.916110Z",
     "iopub.status.busy": "2021-09-30T03:19:20.915750Z",
     "iopub.status.idle": "2021-09-30T03:19:22.185581Z",
     "shell.execute_reply": "2021-09-30T03:19:22.184344Z",
     "shell.execute_reply.started": "2021-09-30T03:19:20.916079Z"
    }
   },
   "outputs": [
    {
     "data": {
      "image/png": "[encoded data removed]",
      "text/plain": [
       "<Figure size 432x288 with 1 Axes>"
      ]
     },
     "metadata": {
      "needs_background": "light"
     },
     "output_type": "display_data"
    },
    {
     "data": {
      "image/png": "[encoded data removed]",
      "text/plain": [
       "<Figure size 432x288 with 1 Axes>"
      ]
     },
     "metadata": {
      "needs_background": "light"
     },
     "output_type": "display_data"
    },
    {
     "data": {
      "image/png": "[encoded data removed]",
      "text/plain": [
       "<Figure size 432x288 with 1 Axes>"
      ]
     },
     "metadata": {
      "needs_background": "light"
     },
     "output_type": "display_data"
    },
    {
     "data": {
      "image/png": "[encoded data removed]",
      "text/plain": [
       "<Figure size 432x288 with 1 Axes>"
      ]
     },
     "metadata": {
      "needs_background": "light"
     },
     "output_type": "display_data"
    },
    {
     "data": {
      "image/png": "[encoded data removed]",
      "text/plain": [
       "<Figure size 432x288 with 1 Axes>"
      ]
     },
     "metadata": {
      "needs_background": "light"
     },
     "output_type": "display_data"
    },
    {
     "data": {
      "image/png": "[encoded data removed]",
      "text/plain": [
       "<Figure size 432x288 with 1 Axes>"
      ]
     },
     "metadata": {
      "needs_background": "light"
     },
     "output_type": "display_data"
    }
   ],
   "source": [
    "#distribution of num values\n",
    "for i in X[numerical_feature]:\n",
    "    plt.hist(X[i])\n",
    "    plt.title(i)\n",
    "    plt.show()"
   ]
  },
  {
   "cell_type": "code",
   "execution_count": 48,
   "metadata": {
    "execution": {
     "iopub.execute_input": "2021-09-30T03:19:22.187300Z",
     "iopub.status.busy": "2021-09-30T03:19:22.187019Z",
     "iopub.status.idle": "2021-09-30T03:19:22.535076Z",
     "shell.execute_reply": "2021-09-30T03:19:22.534022Z",
     "shell.execute_reply.started": "2021-09-30T03:19:22.187259Z"
    }
   },
   "outputs": [
    {
     "data": {
      "text/plain": [
       "<AxesSubplot:>"
      ]
     },
     "execution_count": 48,
     "metadata": {},
     "output_type": "execute_result"
    },
    {
     "data": {
      "image/png": "[encoded data removed]",
      "text/plain": [
       "<Figure size 432x288 with 2 Axes>"
      ]
     },
     "metadata": {
      "needs_background": "light"
     },
     "output_type": "display_data"
    }
   ],
   "source": [
    "X[numerical_feature].corr()\n",
    "\n",
    "sns.heatmap(X.corr(), linewidths=0.1, cmap=\"YlGnBu\")"
   ]
  },
  {
   "cell_type": "code",
   "execution_count": 49,
   "metadata": {
    "execution": {
     "iopub.execute_input": "2021-09-30T03:19:22.536707Z",
     "iopub.status.busy": "2021-09-30T03:19:22.536416Z",
     "iopub.status.idle": "2021-09-30T03:19:22.587559Z",
     "shell.execute_reply": "2021-09-30T03:19:22.586349Z",
     "shell.execute_reply.started": "2021-09-30T03:19:22.536676Z"
    }
   },
   "outputs": [],
   "source": [
    "#One hot encoding of categorical variables using get_dummies function\n",
    "X_cat = pd.concat([pd.get_dummies(X[categorical_feature], drop_first=True), X[numerical_feature]], axis=1)"
   ]
  },
  {
   "cell_type": "code",
   "execution_count": 50,
   "metadata": {
    "execution": {
     "iopub.execute_input": "2021-09-30T03:19:22.589158Z",
     "iopub.status.busy": "2021-09-30T03:19:22.588913Z",
     "iopub.status.idle": "2021-09-30T03:19:22.612599Z",
     "shell.execute_reply": "2021-09-30T03:19:22.611403Z",
     "shell.execute_reply.started": "2021-09-30T03:19:22.589131Z"
    }
   },
   "outputs": [],
   "source": [
    "#Create train and test dataset\n",
    "from sklearn.model_selection import train_test_split\n",
    "\n",
    "X_train, X_test, y_train, y_test = train_test_split(X_cat,y, random_state=1234, test_size= 0.2)"
   ]
  },
  {
   "cell_type": "code",
   "execution_count": 51,
   "metadata": {
    "execution": {
     "iopub.execute_input": "2021-09-30T03:19:22.614488Z",
     "iopub.status.busy": "2021-09-30T03:19:22.614152Z",
     "iopub.status.idle": "2021-09-30T03:19:23.184873Z",
     "shell.execute_reply": "2021-09-30T03:19:23.184006Z",
     "shell.execute_reply.started": "2021-09-30T03:19:22.614447Z"
    }
   },
   "outputs": [
    {
     "data": {
      "text/plain": [
       "0.797328420082911"
      ]
     },
     "execution_count": 51,
     "metadata": {},
     "output_type": "execute_result"
    }
   ],
   "source": [
    "#Applying Logistic regression alogorithm to train test and find accuaracy of model\n",
    "from sklearn.linear_model import LogisticRegression\n",
    "lr = LogisticRegression()\n",
    "lr.fit(X_train, y_train)\n",
    "lr.score(X_test, y_test)"
   ]
  },
  {
   "cell_type": "code",
   "execution_count": 52,
   "metadata": {
    "execution": {
     "iopub.execute_input": "2021-09-30T03:19:23.186982Z",
     "iopub.status.busy": "2021-09-30T03:19:23.186480Z",
     "iopub.status.idle": "2021-09-30T03:19:27.710035Z",
     "shell.execute_reply": "2021-09-30T03:19:27.708984Z",
     "shell.execute_reply.started": "2021-09-30T03:19:23.186938Z"
    }
   },
   "outputs": [
    {
     "data": {
      "text/plain": [
       "0.8544449562413634"
      ]
     },
     "execution_count": 52,
     "metadata": {},
     "output_type": "execute_result"
    }
   ],
   "source": [
    "#Check with Random forest\n",
    "from sklearn.ensemble import RandomForestClassifier\n",
    "rf=RandomForestClassifier()\n",
    "rf.fit(X_train, y_train)\n",
    "rf.score(X_test, y_test)"
   ]
  },
  {
   "cell_type": "code",
   "execution_count": 53,
   "metadata": {
    "execution": {
     "iopub.execute_input": "2021-09-30T03:19:27.711567Z",
     "iopub.status.busy": "2021-09-30T03:19:27.711305Z",
     "iopub.status.idle": "2021-09-30T03:19:27.919363Z",
     "shell.execute_reply": "2021-09-30T03:19:27.918671Z",
     "shell.execute_reply.started": "2021-09-30T03:19:27.711539Z"
    }
   },
   "outputs": [],
   "source": [
    "y_pred = rf.predict(X_test)"
   ]
  },
  {
   "cell_type": "code",
   "execution_count": 54,
   "metadata": {
    "execution": {
     "iopub.execute_input": "2021-09-30T03:19:27.921297Z",
     "iopub.status.busy": "2021-09-30T03:19:27.920356Z",
     "iopub.status.idle": "2021-09-30T03:19:28.070976Z",
     "shell.execute_reply": "2021-09-30T03:19:28.069928Z",
     "shell.execute_reply.started": "2021-09-30T03:19:27.921254Z"
    }
   },
   "outputs": [],
   "source": [
    "# Saving the model\n",
    "import pickle\n",
    "pickle.dump(rf, open('salary_clf.pkl', 'wb'))"
   ]
  },
  {
   "cell_type": "code",
   "execution_count": 55,
   "metadata": {
    "execution": {
     "iopub.execute_input": "2021-09-30T03:19:28.073176Z",
     "iopub.status.busy": "2021-09-30T03:19:28.072288Z",
     "iopub.status.idle": "2021-09-30T03:19:28.559355Z",
     "shell.execute_reply": "2021-09-30T03:19:28.558193Z",
     "shell.execute_reply.started": "2021-09-30T03:19:28.073141Z"
    }
   },
   "outputs": [],
   "source": [
    "X_train.to_csv('train.csv')"
   ]
  }
 ],
 "metadata": {
  "kernelspec": {
   "display_name": "Python 3",
   "language": "python",
   "name": "python3"
  },
  "language_info": {
   "codemirror_mode": {
    "name": "ipython",
    "version": 3
   },
   "file_extension": ".py",
   "mimetype": "text/x-python",
   "name": "python",
   "nbconvert_exporter": "python",
   "pygments_lexer": "ipython3",
   "version": "3.8.7"
  }
 },
 "nbformat": 4,
 "nbformat_minor": 4
}
